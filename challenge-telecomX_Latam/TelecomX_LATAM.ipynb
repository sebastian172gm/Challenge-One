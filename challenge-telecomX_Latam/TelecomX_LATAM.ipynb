{
  "cells": [
    {
      "cell_type": "markdown",
      "metadata": {
        "id": "4foVEKhrlqcH"
      },
      "source": [
        "#📌 Extracción"
      ]
    },
    {
      "cell_type": "code",
      "execution_count": 9,
      "metadata": {
        "id": "1--uPM88l7JH"
      },
      "outputs": [],
      "source": [
        "# Librarys used here\n",
        "\n",
        "import pandas as pd\n",
        "import matplotlib.pyplot as plt\n",
        "import seaborn as sns\n",
        "import numpy as np\n",
        "import os\n",
        "import tabulate as tabulate\n",
        "import folium\n",
        "from pandas import json_normalize\n",
        "from folium.plugins import HeatMap\n",
        "import warnings\n",
        "import dfply as dp\n",
        "\n",
        "warnings.filterwarnings(\"ignore\")\n",
        "warnings.simplefilter(action='ignore', category=FutureWarning)\n",
        "\n",
        "import json"
      ]
    },
    {
      "cell_type": "markdown",
      "metadata": {},
      "source": [
        "#### Diccionario de datos\n",
        "\n",
        "- `customerID`: número de identificación único de cada cliente\n",
        "- `Churn`: si el cliente dejó o no la empresa\n",
        "- `gender`: género (masculino y femenino)\n",
        "- `SeniorCitizen`: información sobre si un cliente tiene o no una edad igual o mayor a 65 años\n",
        "- `Partner`: si el cliente tiene o no una pareja\n",
        "- `Dependents`: si el cliente tiene o no dependientes\n",
        "- `tenure`: meses de contrato del cliente\n",
        "- `PhoneService`: suscripción al servicio telefónico\n",
        "- `MultipleLines`: suscripción a más de una línea telefónica\n",
        "- `InternetService`: suscripción a un proveedor de internet\n",
        "- `OnlineSecurity`: suscripción adicional de seguridad en línea\n",
        "- `OnlineBackup`: suscripción adicional de respaldo en línea\n",
        "- `DeviceProtection`: suscripción adicional de protección del dispositivo\n",
        "- `TechSupport`: suscripción adicional de soporte técnico, menor tiempo de espera\n",
        "- `StreamingTV`: suscripción de televisión por cable\n",
        "- `StreamingMovies`: suscripción de streaming de películas\n",
        "- `Contract`: tipo de contrato\n",
        "- `PaperlessBilling`: si el cliente prefiere recibir la factura en línea\n",
        "- `PaymentMethod`: forma de pago\n",
        "- `Charges.Monthly`: total de todos los servicios del cliente por mes\n",
        "- `Charges.Total`: total gastado por el cliente"
      ]
    },
    {
      "cell_type": "code",
      "execution_count": 4,
      "metadata": {},
      "outputs": [
        {
          "data": {
            "application/vnd.microsoft.datawrangler.viewer.v0+json": {
              "columns": [
                {
                  "name": "index",
                  "rawType": "int64",
                  "type": "integer"
                },
                {
                  "name": "customerID",
                  "rawType": "object",
                  "type": "string"
                },
                {
                  "name": "Churn",
                  "rawType": "object",
                  "type": "string"
                },
                {
                  "name": "customer.gender",
                  "rawType": "object",
                  "type": "string"
                },
                {
                  "name": "customer.SeniorCitizen",
                  "rawType": "int64",
                  "type": "integer"
                },
                {
                  "name": "customer.Partner",
                  "rawType": "object",
                  "type": "string"
                },
                {
                  "name": "customer.Dependents",
                  "rawType": "object",
                  "type": "string"
                },
                {
                  "name": "customer.tenure",
                  "rawType": "int64",
                  "type": "integer"
                },
                {
                  "name": "phone.PhoneService",
                  "rawType": "object",
                  "type": "string"
                },
                {
                  "name": "phone.MultipleLines",
                  "rawType": "object",
                  "type": "string"
                },
                {
                  "name": "internet.InternetService",
                  "rawType": "object",
                  "type": "string"
                },
                {
                  "name": "internet.OnlineSecurity",
                  "rawType": "object",
                  "type": "string"
                },
                {
                  "name": "internet.OnlineBackup",
                  "rawType": "object",
                  "type": "string"
                },
                {
                  "name": "internet.DeviceProtection",
                  "rawType": "object",
                  "type": "string"
                },
                {
                  "name": "internet.TechSupport",
                  "rawType": "object",
                  "type": "string"
                },
                {
                  "name": "internet.StreamingTV",
                  "rawType": "object",
                  "type": "string"
                },
                {
                  "name": "internet.StreamingMovies",
                  "rawType": "object",
                  "type": "string"
                },
                {
                  "name": "account.Contract",
                  "rawType": "object",
                  "type": "string"
                },
                {
                  "name": "account.PaperlessBilling",
                  "rawType": "object",
                  "type": "string"
                },
                {
                  "name": "account.PaymentMethod",
                  "rawType": "object",
                  "type": "string"
                },
                {
                  "name": "account.Charges.Monthly",
                  "rawType": "float64",
                  "type": "float"
                },
                {
                  "name": "account.Charges.Total",
                  "rawType": "object",
                  "type": "string"
                }
              ],
              "ref": "815048e4-f797-41fd-84f0-f42cd6cabdb3",
              "rows": [
                [
                  "0",
                  "0002-ORFBO",
                  "No",
                  "Female",
                  "0",
                  "Yes",
                  "Yes",
                  "9",
                  "Yes",
                  "No",
                  "DSL",
                  "No",
                  "Yes",
                  "No",
                  "Yes",
                  "Yes",
                  "No",
                  "One year",
                  "Yes",
                  "Mailed check",
                  "65.6",
                  "593.3"
                ],
                [
                  "1",
                  "0003-MKNFE",
                  "No",
                  "Male",
                  "0",
                  "No",
                  "No",
                  "9",
                  "Yes",
                  "Yes",
                  "DSL",
                  "No",
                  "No",
                  "No",
                  "No",
                  "No",
                  "Yes",
                  "Month-to-month",
                  "No",
                  "Mailed check",
                  "59.9",
                  "542.4"
                ],
                [
                  "2",
                  "0004-TLHLJ",
                  "Yes",
                  "Male",
                  "0",
                  "No",
                  "No",
                  "4",
                  "Yes",
                  "No",
                  "Fiber optic",
                  "No",
                  "No",
                  "Yes",
                  "No",
                  "No",
                  "No",
                  "Month-to-month",
                  "Yes",
                  "Electronic check",
                  "73.9",
                  "280.85"
                ],
                [
                  "3",
                  "0011-IGKFF",
                  "Yes",
                  "Male",
                  "1",
                  "Yes",
                  "No",
                  "13",
                  "Yes",
                  "No",
                  "Fiber optic",
                  "No",
                  "Yes",
                  "Yes",
                  "No",
                  "Yes",
                  "Yes",
                  "Month-to-month",
                  "Yes",
                  "Electronic check",
                  "98.0",
                  "1237.85"
                ],
                [
                  "4",
                  "0013-EXCHZ",
                  "Yes",
                  "Female",
                  "1",
                  "Yes",
                  "No",
                  "3",
                  "Yes",
                  "No",
                  "Fiber optic",
                  "No",
                  "No",
                  "No",
                  "Yes",
                  "Yes",
                  "No",
                  "Month-to-month",
                  "Yes",
                  "Mailed check",
                  "83.9",
                  "267.4"
                ]
              ],
              "shape": {
                "columns": 21,
                "rows": 5
              }
            },
            "text/html": [
              "<div>\n",
              "<style scoped>\n",
              "    .dataframe tbody tr th:only-of-type {\n",
              "        vertical-align: middle;\n",
              "    }\n",
              "\n",
              "    .dataframe tbody tr th {\n",
              "        vertical-align: top;\n",
              "    }\n",
              "\n",
              "    .dataframe thead th {\n",
              "        text-align: right;\n",
              "    }\n",
              "</style>\n",
              "<table border=\"1\" class=\"dataframe\">\n",
              "  <thead>\n",
              "    <tr style=\"text-align: right;\">\n",
              "      <th></th>\n",
              "      <th>customerID</th>\n",
              "      <th>Churn</th>\n",
              "      <th>customer.gender</th>\n",
              "      <th>customer.SeniorCitizen</th>\n",
              "      <th>customer.Partner</th>\n",
              "      <th>customer.Dependents</th>\n",
              "      <th>customer.tenure</th>\n",
              "      <th>phone.PhoneService</th>\n",
              "      <th>phone.MultipleLines</th>\n",
              "      <th>internet.InternetService</th>\n",
              "      <th>...</th>\n",
              "      <th>internet.OnlineBackup</th>\n",
              "      <th>internet.DeviceProtection</th>\n",
              "      <th>internet.TechSupport</th>\n",
              "      <th>internet.StreamingTV</th>\n",
              "      <th>internet.StreamingMovies</th>\n",
              "      <th>account.Contract</th>\n",
              "      <th>account.PaperlessBilling</th>\n",
              "      <th>account.PaymentMethod</th>\n",
              "      <th>account.Charges.Monthly</th>\n",
              "      <th>account.Charges.Total</th>\n",
              "    </tr>\n",
              "  </thead>\n",
              "  <tbody>\n",
              "    <tr>\n",
              "      <th>0</th>\n",
              "      <td>0002-ORFBO</td>\n",
              "      <td>No</td>\n",
              "      <td>Female</td>\n",
              "      <td>0</td>\n",
              "      <td>Yes</td>\n",
              "      <td>Yes</td>\n",
              "      <td>9</td>\n",
              "      <td>Yes</td>\n",
              "      <td>No</td>\n",
              "      <td>DSL</td>\n",
              "      <td>...</td>\n",
              "      <td>Yes</td>\n",
              "      <td>No</td>\n",
              "      <td>Yes</td>\n",
              "      <td>Yes</td>\n",
              "      <td>No</td>\n",
              "      <td>One year</td>\n",
              "      <td>Yes</td>\n",
              "      <td>Mailed check</td>\n",
              "      <td>65.6</td>\n",
              "      <td>593.3</td>\n",
              "    </tr>\n",
              "    <tr>\n",
              "      <th>1</th>\n",
              "      <td>0003-MKNFE</td>\n",
              "      <td>No</td>\n",
              "      <td>Male</td>\n",
              "      <td>0</td>\n",
              "      <td>No</td>\n",
              "      <td>No</td>\n",
              "      <td>9</td>\n",
              "      <td>Yes</td>\n",
              "      <td>Yes</td>\n",
              "      <td>DSL</td>\n",
              "      <td>...</td>\n",
              "      <td>No</td>\n",
              "      <td>No</td>\n",
              "      <td>No</td>\n",
              "      <td>No</td>\n",
              "      <td>Yes</td>\n",
              "      <td>Month-to-month</td>\n",
              "      <td>No</td>\n",
              "      <td>Mailed check</td>\n",
              "      <td>59.9</td>\n",
              "      <td>542.4</td>\n",
              "    </tr>\n",
              "    <tr>\n",
              "      <th>2</th>\n",
              "      <td>0004-TLHLJ</td>\n",
              "      <td>Yes</td>\n",
              "      <td>Male</td>\n",
              "      <td>0</td>\n",
              "      <td>No</td>\n",
              "      <td>No</td>\n",
              "      <td>4</td>\n",
              "      <td>Yes</td>\n",
              "      <td>No</td>\n",
              "      <td>Fiber optic</td>\n",
              "      <td>...</td>\n",
              "      <td>No</td>\n",
              "      <td>Yes</td>\n",
              "      <td>No</td>\n",
              "      <td>No</td>\n",
              "      <td>No</td>\n",
              "      <td>Month-to-month</td>\n",
              "      <td>Yes</td>\n",
              "      <td>Electronic check</td>\n",
              "      <td>73.9</td>\n",
              "      <td>280.85</td>\n",
              "    </tr>\n",
              "    <tr>\n",
              "      <th>3</th>\n",
              "      <td>0011-IGKFF</td>\n",
              "      <td>Yes</td>\n",
              "      <td>Male</td>\n",
              "      <td>1</td>\n",
              "      <td>Yes</td>\n",
              "      <td>No</td>\n",
              "      <td>13</td>\n",
              "      <td>Yes</td>\n",
              "      <td>No</td>\n",
              "      <td>Fiber optic</td>\n",
              "      <td>...</td>\n",
              "      <td>Yes</td>\n",
              "      <td>Yes</td>\n",
              "      <td>No</td>\n",
              "      <td>Yes</td>\n",
              "      <td>Yes</td>\n",
              "      <td>Month-to-month</td>\n",
              "      <td>Yes</td>\n",
              "      <td>Electronic check</td>\n",
              "      <td>98.0</td>\n",
              "      <td>1237.85</td>\n",
              "    </tr>\n",
              "    <tr>\n",
              "      <th>4</th>\n",
              "      <td>0013-EXCHZ</td>\n",
              "      <td>Yes</td>\n",
              "      <td>Female</td>\n",
              "      <td>1</td>\n",
              "      <td>Yes</td>\n",
              "      <td>No</td>\n",
              "      <td>3</td>\n",
              "      <td>Yes</td>\n",
              "      <td>No</td>\n",
              "      <td>Fiber optic</td>\n",
              "      <td>...</td>\n",
              "      <td>No</td>\n",
              "      <td>No</td>\n",
              "      <td>Yes</td>\n",
              "      <td>Yes</td>\n",
              "      <td>No</td>\n",
              "      <td>Month-to-month</td>\n",
              "      <td>Yes</td>\n",
              "      <td>Mailed check</td>\n",
              "      <td>83.9</td>\n",
              "      <td>267.4</td>\n",
              "    </tr>\n",
              "  </tbody>\n",
              "</table>\n",
              "<p>5 rows × 21 columns</p>\n",
              "</div>"
            ],
            "text/plain": [
              "   customerID Churn customer.gender  customer.SeniorCitizen customer.Partner  \\\n",
              "0  0002-ORFBO    No          Female                       0              Yes   \n",
              "1  0003-MKNFE    No            Male                       0               No   \n",
              "2  0004-TLHLJ   Yes            Male                       0               No   \n",
              "3  0011-IGKFF   Yes            Male                       1              Yes   \n",
              "4  0013-EXCHZ   Yes          Female                       1              Yes   \n",
              "\n",
              "  customer.Dependents  customer.tenure phone.PhoneService phone.MultipleLines  \\\n",
              "0                 Yes                9                Yes                  No   \n",
              "1                  No                9                Yes                 Yes   \n",
              "2                  No                4                Yes                  No   \n",
              "3                  No               13                Yes                  No   \n",
              "4                  No                3                Yes                  No   \n",
              "\n",
              "  internet.InternetService  ... internet.OnlineBackup  \\\n",
              "0                      DSL  ...                   Yes   \n",
              "1                      DSL  ...                    No   \n",
              "2              Fiber optic  ...                    No   \n",
              "3              Fiber optic  ...                   Yes   \n",
              "4              Fiber optic  ...                    No   \n",
              "\n",
              "  internet.DeviceProtection internet.TechSupport internet.StreamingTV  \\\n",
              "0                        No                  Yes                  Yes   \n",
              "1                        No                   No                   No   \n",
              "2                       Yes                   No                   No   \n",
              "3                       Yes                   No                  Yes   \n",
              "4                        No                  Yes                  Yes   \n",
              "\n",
              "  internet.StreamingMovies account.Contract account.PaperlessBilling  \\\n",
              "0                       No         One year                      Yes   \n",
              "1                      Yes   Month-to-month                       No   \n",
              "2                       No   Month-to-month                      Yes   \n",
              "3                      Yes   Month-to-month                      Yes   \n",
              "4                       No   Month-to-month                      Yes   \n",
              "\n",
              "  account.PaymentMethod account.Charges.Monthly  account.Charges.Total  \n",
              "0          Mailed check                    65.6                  593.3  \n",
              "1          Mailed check                    59.9                  542.4  \n",
              "2      Electronic check                    73.9                 280.85  \n",
              "3      Electronic check                    98.0                1237.85  \n",
              "4          Mailed check                    83.9                  267.4  \n",
              "\n",
              "[5 rows x 21 columns]"
            ]
          },
          "execution_count": 4,
          "metadata": {},
          "output_type": "execute_result"
        }
      ],
      "source": [
        "df1.head()"
      ]
    },
    {
      "cell_type": "code",
      "execution_count": null,
      "metadata": {},
      "outputs": [
        {
          "name": "stdout",
          "output_type": "stream",
          "text": [
            "56.05\n"
          ]
        }
      ],
      "source": [
        "with open(\"TelecomX_Data.json\", \"r\", encoding=\"utf-8\") as f:\n",
        "    data = json.load(f)\n",
        "\n",
        "df1= json_normalize(data) \n",
        "df1= pd.DataFrame(df1)\n",
        "df1.info()\n",
        "\n",
        "\n",
        "\n"
      ]
    },
    {
      "cell_type": "code",
      "execution_count": 26,
      "metadata": {},
      "outputs": [
        {
          "name": "stdout",
          "output_type": "stream",
          "text": [
            "| Columna                   | Tipo de Dato   |   Nulos |   Únicos |\n",
            "|:--------------------------|:---------------|--------:|---------:|\n",
            "| Churn                     | object         |     224 |        2 |\n",
            "| account.Charges.Total     | object         |      11 |     6530 |\n",
            "| customerID                | object         |       0 |     7267 |\n",
            "| customer.SeniorCitizen    | int64          |       0 |        2 |\n",
            "| customer.gender           | object         |       0 |        2 |\n",
            "| customer.Partner          | object         |       0 |        2 |\n",
            "| customer.Dependents       | object         |       0 |        2 |\n",
            "| phone.PhoneService        | object         |       0 |        2 |\n",
            "| customer.tenure           | int64          |       0 |       73 |\n",
            "| internet.InternetService  | object         |       0 |        3 |\n",
            "| internet.OnlineSecurity   | object         |       0 |        3 |\n",
            "| internet.OnlineBackup     | object         |       0 |        3 |\n",
            "| phone.MultipleLines       | object         |       0 |        3 |\n",
            "| internet.DeviceProtection | object         |       0 |        3 |\n",
            "| internet.TechSupport      | object         |       0 |        3 |\n",
            "| internet.StreamingMovies  | object         |       0 |        3 |\n",
            "| internet.StreamingTV      | object         |       0 |        3 |\n",
            "| account.Contract          | object         |       0 |        3 |\n",
            "| account.PaperlessBilling  | object         |       0 |        2 |\n",
            "| account.PaymentMethod     | object         |       0 |        4 |\n",
            "| account.Charges.Monthly   | float64        |       0 |     1585 |\n"
          ]
        }
      ],
      "source": [
        "# create a summary DataFrame with the required statistics\n",
        "# including the number of nulls, unique values, max, min, mean, and standard\n",
        "df1.replace([\"\" , \" \"], np.nan, inplace=True)\n",
        "\n",
        "summary = pd.DataFrame({\n",
        "    'Columna': df1.columns,\n",
        "    'Tipo de Dato': df1.dtypes.values,\n",
        "    'Nulos': df1.isnull().sum().values,\n",
        "    'Únicos': df1.nunique().values\n",
        "})\n",
        "\n",
        "\n",
        "summary = summary.sort_values(by='Nulos', ascending=False).reset_index(drop=True)\n",
        "\n",
        "\n",
        "print(summary.to_markdown(index=False))"
      ]
    },
    {
      "cell_type": "markdown",
      "metadata": {},
      "source": [
        "Antes de iniciar el análisis de evasión de clientes, es fundamental aplicar una serie de transformaciones al dataset para garantizar su calidad. Primero, es necesario aplanar la estructura anidada del JSON utilizando `pd.json_normalize()`, lo que facilita el acceso a las variables. Luego, se deben reemplazar cadenas vacías `\"\"` por valores nulos (`NaN`) para su correcta identificación y manejo. Es crucial convertir columnas numéricas que vienen como texto, como `account.Charges.Total`, a tipo `float`, y transformar columnas categóricas (`gender`, `Partner`, etc.) al tipo `category`, optimizando así el uso de memoria. También se recomienda unificar formatos y corregir inconsistencias como valores mal escritos o no estándar. La variable objetivo `Churn` debe convertirse a binaria (`Yes` = 1, `No` = 0) para facilitar su análisis. Se deben revisar y tratar los valores nulos, ya sea imputándolos o eliminándolos según el caso. Además, es importante eliminar duplicados y verificar la consistencia lógica entre variables relacionadas (por ejemplo, si `PhoneService` es \"No\", entonces `MultipleLines` no debe estar activo). Estas transformaciones aseguran un dataset limpio, estructurado y listo para generar insights confiables.\n"
      ]
    },
    {
      "cell_type": "markdown",
      "metadata": {
        "id": "1lSZP8zmmGZu"
      },
      "source": [
        "#🔧 Transformación"
      ]
    },
    {
      "cell_type": "code",
      "execution_count": 30,
      "metadata": {
        "id": "bsm-WTLjmHvt"
      },
      "outputs": [],
      "source": [
        "\n",
        "# trasform the DataFrame to have a more readable format\n",
        "\n",
        "cat_cols = [ 'customer.gender','internet.InternetService','account.Contract','account.PaymentMethod',\n",
        "            'internet.OnlineSecurity', 'internet.OnlineBackup', 'internet.DeviceProtection',\n",
        "    'internet.TechSupport', 'internet.StreamingTV', 'internet.StreamingMovies']\n",
        "for col in cat_cols:\n",
        "    df1[col] = df1[col].astype('category')\n",
        "\n",
        "\n",
        "# convert the 'customer.SeniorCitizen' column to boolean\n",
        "\n",
        "cat_cols = ['customer.Partner', 'customer.Dependents', 'phone.PhoneService', 'phone.MultipleLines',\n",
        "    'account.PaperlessBilling', 'Churn','customer.SeniorCitizen']\n",
        "\n",
        "# remplace Yes/No with 1/0\n",
        "\n",
        "df1 = df1.replace({'Yes': 1, 'No': 0})\n",
        "\n",
        "for col in cat_cols:\n",
        "    df1[col] = df1[col].astype('bool')\n",
        "    \n",
        "\n",
        "# convert the 'account.Charges.Total' column to float\n",
        "df1['account.Charges.Total'] = df1['account.Charges.Total'].astype(float)"
      ]
    },
    {
      "cell_type": "code",
      "execution_count": 31,
      "metadata": {
        "id": "1jgUnLqTmPdd"
      },
      "outputs": [
        {
          "name": "stdout",
          "output_type": "stream",
          "text": [
            "<class 'pandas.core.frame.DataFrame'>\n",
            "RangeIndex: 7267 entries, 0 to 7266\n",
            "Data columns (total 21 columns):\n",
            " #   Column                     Non-Null Count  Dtype   \n",
            "---  ------                     --------------  -----   \n",
            " 0   customerID                 7267 non-null   object  \n",
            " 1   Churn                      7267 non-null   bool    \n",
            " 2   customer.gender            7267 non-null   category\n",
            " 3   customer.SeniorCitizen     7267 non-null   bool    \n",
            " 4   customer.Partner           7267 non-null   bool    \n",
            " 5   customer.Dependents        7267 non-null   bool    \n",
            " 6   customer.tenure            7267 non-null   int64   \n",
            " 7   phone.PhoneService         7267 non-null   bool    \n",
            " 8   phone.MultipleLines        7267 non-null   bool    \n",
            " 9   internet.InternetService   7267 non-null   category\n",
            " 10  internet.OnlineSecurity    7267 non-null   category\n",
            " 11  internet.OnlineBackup      7267 non-null   category\n",
            " 12  internet.DeviceProtection  7267 non-null   category\n",
            " 13  internet.TechSupport       7267 non-null   category\n",
            " 14  internet.StreamingTV       7267 non-null   category\n",
            " 15  internet.StreamingMovies   7267 non-null   category\n",
            " 16  account.Contract           7267 non-null   category\n",
            " 17  account.PaperlessBilling   7267 non-null   bool    \n",
            " 18  account.PaymentMethod      7267 non-null   category\n",
            " 19  account.Charges.Monthly    7267 non-null   float64 \n",
            " 20  account.Charges.Total      7256 non-null   float64 \n",
            "dtypes: bool(7), category(10), float64(2), int64(1), object(1)\n",
            "memory usage: 349.2+ KB\n"
          ]
        }
      ],
      "source": [
        "df1.info()"
      ]
    },
    {
      "cell_type": "markdown",
      "metadata": {
        "id": "6XnTC2NTmMRL"
      },
      "source": [
        "#📊 Carga y análisis"
      ]
    },
    {
      "cell_type": "code",
      "execution_count": 32,
      "metadata": {},
      "outputs": [],
      "source": [
        "# load data base in .CSV format\n",
        "df1.to_csv(\"TelecomX_Data_Cleaned.csv\", index=False)\n"
      ]
    },
    {
      "cell_type": "code",
      "execution_count": 33,
      "metadata": {},
      "outputs": [
        {
          "data": {
            "image/png": "[encoded data removed]",
            "text/plain": [
              "<Figure size 500x400 with 1 Axes>"
            ]
          },
          "metadata": {},
          "output_type": "display_data"
        }
      ],
      "source": [
        "# 1. Distribución de Churn\n",
        "plt.figure(figsize=(5,4))\n",
        "sns.countplot(x='Churn', data=df1, palette='Set2')\n",
        "plt.title(\"Distribución de Churn\")\n",
        "plt.xlabel(\"¿Cliente se fue?\")\n",
        "plt.ylabel(\"Cantidad\")\n",
        "plt.xticks([0, 1], ['No', 'Sí'])\n",
        "plt.tight_layout()\n",
        "plt.show()"
      ]
    },
    {
      "cell_type": "code",
      "execution_count": 34,
      "metadata": {},
      "outputs": [
        {
          "data": {
            "image/png": "[encoded data removed]",
            "text/plain": [
              "<Figure size 600x400 with 1 Axes>"
            ]
          },
          "metadata": {},
          "output_type": "display_data"
        }
      ],
      "source": [
        "# 2. Tenure promedio según churn\n",
        "plt.figure(figsize=(6,4))\n",
        "sns.boxplot(x='Churn', y='customer.tenure', data=df1, palette='coolwarm')\n",
        "plt.title(\"Meses de contrato según Churn\")\n",
        "plt.xticks([0, 1], ['No', 'Sí'])\n",
        "plt.tight_layout()\n",
        "plt.show()"
      ]
    },
    {
      "cell_type": "code",
      "execution_count": 36,
      "metadata": {},
      "outputs": [
        {
          "data": {
            "image/png": "[encoded data removed]",
            "text/plain": [
              "<Figure size 600x400 with 1 Axes>"
            ]
          },
          "metadata": {},
          "output_type": "display_data"
        }
      ],
      "source": [
        "# 4. Total acumulado vs churn\n",
        "plt.figure(figsize=(6,4))\n",
        "sns.boxplot(x='Churn', y='account.Charges.Total', data=df1, palette='magma')\n",
        "plt.title(\"Total facturado por cliente según Churn\")\n",
        "plt.xticks([0, 1], ['No', 'Sí'])\n",
        "plt.tight_layout()\n",
        "plt.show()"
      ]
    },
    {
      "cell_type": "markdown",
      "metadata": {
        "id": "v-WzfSvTmaw9"
      },
      "source": [
        "#📄Informe final"
      ]
    },
    {
      "cell_type": "code",
      "execution_count": null,
      "metadata": {
        "id": "XMTac0YJmeK9"
      },
      "outputs": [
        {
          "data": {
            "text/plain": [
              "array(['Yes', 'No', 'No internet service'], dtype=object)"
            ]
          },
          "execution_count": 25,
          "metadata": {},
          "output_type": "execute_result"
        }
      ],
      "source": []
    }
  ],
  "metadata": {
    "colab": {
      "provenance": []
    },
    "kernelspec": {
      "display_name": "Python 3",
      "name": "python3"
    },
    "language_info": {
      "codemirror_mode": {
        "name": "ipython",
        "version": 3
      },
      "file_extension": ".py",
      "mimetype": "text/x-python",
      "name": "python",
      "nbconvert_exporter": "python",
      "pygments_lexer": "ipython3",
      "version": "3.12.9"
    }
  },
  "nbformat": 4,
  "nbformat_minor": 0
}
