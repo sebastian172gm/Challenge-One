{
  "cells": [
    {
      "cell_type": "markdown",
      "metadata": {
        "id": "4foVEKhrlqcH"
      },
      "source": [
        "#📌 Extracción"
      ]
    },
    {
      "cell_type": "code",
      "execution_count": 14,
      "metadata": {
        "id": "1--uPM88l7JH"
      },
      "outputs": [],
      "source": [
        "# Librarys used here\n",
        "\n",
        "import pandas as pd\n",
        "import matplotlib.pyplot as plt\n",
        "import seaborn as sns\n",
        "import numpy as np\n",
        "import os\n",
        "import tabulate as tabulate\n",
        "import folium\n",
        "from pandas import json_normalize\n",
        "from folium.plugins import HeatMap\n",
        "import warnings\n",
        "\n",
        "warnings.filterwarnings(\"ignore\")\n",
        "warnings.simplefilter(action='ignore', category=FutureWarning)\n",
        "\n",
        "import json"
      ]
    },
    {
      "cell_type": "markdown",
      "metadata": {},
      "source": [
        "#### Diccionario de datos\n",
        "\n",
        "- `customerID`: número de identificación único de cada cliente\n",
        "- `Churn`: si el cliente dejó o no la empresa\n",
        "- `gender`: género (masculino y femenino)\n",
        "- `SeniorCitizen`: información sobre si un cliente tiene o no una edad igual o mayor a 65 años\n",
        "- `Partner`: si el cliente tiene o no una pareja\n",
        "- `Dependents`: si el cliente tiene o no dependientes\n",
        "- `tenure`: meses de contrato del cliente\n",
        "- `PhoneService`: suscripción al servicio telefónico\n",
        "- `MultipleLines`: suscripción a más de una línea telefónica\n",
        "- `InternetService`: suscripción a un proveedor de internet\n",
        "- `OnlineSecurity`: suscripción adicional de seguridad en línea\n",
        "- `OnlineBackup`: suscripción adicional de respaldo en línea\n",
        "- `DeviceProtection`: suscripción adicional de protección del dispositivo\n",
        "- `TechSupport`: suscripción adicional de soporte técnico, menor tiempo de espera\n",
        "- `StreamingTV`: suscripción de televisión por cable\n",
        "- `StreamingMovies`: suscripción de streaming de películas\n",
        "- `Contract`: tipo de contrato\n",
        "- `PaperlessBilling`: si el cliente prefiere recibir la factura en línea\n",
        "- `PaymentMethod`: forma de pago\n",
        "- `Charges.Monthly`: total de todos los servicios del cliente por mes\n",
        "- `Charges.Total`: total gastado por el cliente"
      ]
    },
    {
      "cell_type": "code",
      "execution_count": 11,
      "metadata": {},
      "outputs": [
        {
          "name": "stdout",
          "output_type": "stream",
          "text": [
            "<class 'pandas.core.frame.DataFrame'>\n",
            "RangeIndex: 7267 entries, 0 to 7266\n",
            "Data columns (total 21 columns):\n",
            " #   Column                     Non-Null Count  Dtype  \n",
            "---  ------                     --------------  -----  \n",
            " 0   customerID                 7267 non-null   object \n",
            " 1   Churn                      7267 non-null   object \n",
            " 2   customer.gender            7267 non-null   object \n",
            " 3   customer.SeniorCitizen     7267 non-null   int64  \n",
            " 4   customer.Partner           7267 non-null   object \n",
            " 5   customer.Dependents        7267 non-null   object \n",
            " 6   customer.tenure            7267 non-null   int64  \n",
            " 7   phone.PhoneService         7267 non-null   object \n",
            " 8   phone.MultipleLines        7267 non-null   object \n",
            " 9   internet.InternetService   7267 non-null   object \n",
            " 10  internet.OnlineSecurity    7267 non-null   object \n",
            " 11  internet.OnlineBackup      7267 non-null   object \n",
            " 12  internet.DeviceProtection  7267 non-null   object \n",
            " 13  internet.TechSupport       7267 non-null   object \n",
            " 14  internet.StreamingTV       7267 non-null   object \n",
            " 15  internet.StreamingMovies   7267 non-null   object \n",
            " 16  account.Contract           7267 non-null   object \n",
            " 17  account.PaperlessBilling   7267 non-null   object \n",
            " 18  account.PaymentMethod      7267 non-null   object \n",
            " 19  account.Charges.Monthly    7267 non-null   float64\n",
            " 20  account.Charges.Total      7267 non-null   object \n",
            "dtypes: float64(1), int64(2), object(18)\n",
            "memory usage: 1.2+ MB\n"
          ]
        }
      ],
      "source": [
        "with open(\"TelecomX_Data.json\", \"r\", encoding=\"utf-8\") as f:\n",
        "    data = json.load(f)\n",
        "\n",
        "df1= json_normalize(data) \n",
        "df1= pd.DataFrame(df1)\n",
        "df1.info()\n",
        "\n"
      ]
    },
    {
      "cell_type": "code",
      "execution_count": 15,
      "metadata": {},
      "outputs": [
        {
          "name": "stdout",
          "output_type": "stream",
          "text": [
            "| Columna                   | Tipo de Dato   |   Nulos |   Únicos |    Max |    Min |      Media |         sd |\n",
            "|:--------------------------|:---------------|--------:|---------:|-------:|-------:|-----------:|-----------:|\n",
            "| Churn                     | object         |     224 |        2 | nan    | nan    | nan        | nan        |\n",
            "| customerID                | object         |       0 |     7267 | nan    | nan    | nan        | nan        |\n",
            "| customer.gender           | object         |       0 |        2 | nan    | nan    | nan        | nan        |\n",
            "| customer.SeniorCitizen    | int64          |       0 |        2 |   1    |   0    |   0.162653 |   0.369074 |\n",
            "| customer.Partner          | object         |       0 |        2 | nan    | nan    | nan        | nan        |\n",
            "| customer.Dependents       | object         |       0 |        2 | nan    | nan    | nan        | nan        |\n",
            "| customer.tenure           | int64          |       0 |       73 |  72    |   0    |  32.3465   |  24.5718   |\n",
            "| phone.PhoneService        | object         |       0 |        2 | nan    | nan    | nan        | nan        |\n",
            "| phone.MultipleLines       | object         |       0 |        3 | nan    | nan    | nan        | nan        |\n",
            "| internet.InternetService  | object         |       0 |        3 | nan    | nan    | nan        | nan        |\n",
            "| internet.OnlineSecurity   | object         |       0 |        3 | nan    | nan    | nan        | nan        |\n",
            "| internet.OnlineBackup     | object         |       0 |        3 | nan    | nan    | nan        | nan        |\n",
            "| internet.DeviceProtection | object         |       0 |        3 | nan    | nan    | nan        | nan        |\n",
            "| internet.TechSupport      | object         |       0 |        3 | nan    | nan    | nan        | nan        |\n",
            "| internet.StreamingTV      | object         |       0 |        3 | nan    | nan    | nan        | nan        |\n",
            "| internet.StreamingMovies  | object         |       0 |        3 | nan    | nan    | nan        | nan        |\n",
            "| account.Contract          | object         |       0 |        3 | nan    | nan    | nan        | nan        |\n",
            "| account.PaperlessBilling  | object         |       0 |        2 | nan    | nan    | nan        | nan        |\n",
            "| account.PaymentMethod     | object         |       0 |        4 | nan    | nan    | nan        | nan        |\n",
            "| account.Charges.Monthly   | float64        |       0 |     1585 | 118.75 |  18.25 |  64.7201   |  30.1296   |\n",
            "| account.Charges.Total     | object         |       0 |     6531 | nan    | nan    | nan        | nan        |\n"
          ]
        }
      ],
      "source": [
        "# create a summary DataFrame with the required statistics\n",
        "# including the number of nulls, unique values, max, min, mean, and standard\n",
        "df1.replace(\"\", np.nan, inplace=True)\n",
        "\n",
        "summary = pd.DataFrame({\n",
        "    'Columna': df1.columns,\n",
        "    'Tipo de Dato': df1.dtypes.values,\n",
        "    'Nulos': df1.isnull().sum().values,\n",
        "    'Únicos': df1.nunique().values\n",
        "})\n",
        "\n",
        "\n",
        "summary = summary.sort_values(by='Nulos', ascending=False).reset_index(drop=True)\n",
        "\n",
        "num_cols = df1.select_dtypes(include='number').columns\n",
        "\n",
        "summary['Max'] = summary['Columna'].apply(lambda c: df1[c].max() if c in num_cols else None)\n",
        "summary['Min'] = summary['Columna'].apply(lambda c: df1[c].min() if c in num_cols else None)\n",
        "summary['Media'] = summary['Columna'].apply(lambda c: df1[c].mean() if c in num_cols else None)\n",
        "summary['sd'] = summary['Columna'].apply(lambda c: df1[c].std() if c in num_cols else None)\n",
        "\n",
        "print(summary.to_markdown(index=False))"
      ]
    },
    {
      "cell_type": "markdown",
      "metadata": {
        "id": "1lSZP8zmmGZu"
      },
      "source": [
        "#🔧 Transformación"
      ]
    },
    {
      "cell_type": "code",
      "execution_count": null,
      "metadata": {
        "id": "bsm-WTLjmHvt"
      },
      "outputs": [],
      "source": []
    },
    {
      "cell_type": "markdown",
      "metadata": {
        "id": "6XnTC2NTmMRL"
      },
      "source": [
        "#📊 Carga y análisis"
      ]
    },
    {
      "cell_type": "code",
      "execution_count": null,
      "metadata": {
        "id": "1jgUnLqTmPdd"
      },
      "outputs": [],
      "source": []
    },
    {
      "cell_type": "markdown",
      "metadata": {
        "id": "v-WzfSvTmaw9"
      },
      "source": [
        "#📄Informe final"
      ]
    },
    {
      "cell_type": "code",
      "execution_count": null,
      "metadata": {
        "id": "XMTac0YJmeK9"
      },
      "outputs": [],
      "source": []
    }
  ],
  "metadata": {
    "colab": {
      "provenance": []
    },
    "kernelspec": {
      "display_name": "Python 3",
      "name": "python3"
    },
    "language_info": {
      "codemirror_mode": {
        "name": "ipython",
        "version": 3
      },
      "file_extension": ".py",
      "mimetype": "text/x-python",
      "name": "python",
      "nbconvert_exporter": "python",
      "pygments_lexer": "ipython3",
      "version": "3.12.9"
    }
  },
  "nbformat": 4,
  "nbformat_minor": 0
}
