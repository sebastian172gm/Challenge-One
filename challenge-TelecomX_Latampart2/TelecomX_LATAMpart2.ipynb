{
  "cells": [
    {
      "cell_type": "markdown",
      "metadata": {
        "id": "4foVEKhrlqcH"
      },
      "source": [
        "# Proyecto Telecom X - Etapa 2 - Machine Learning \n",
        "#    (Previsión de Evasión (Churn) de clientes.)\n"
      ]
    },
    {
      "cell_type": "code",
      "execution_count": 1,
      "metadata": {
        "id": "1--uPM88l7JH"
      },
      "outputs": [],
      "source": [
        "# Librarys used here\n",
        "\n",
        "import pandas as pd\n",
        "import matplotlib.pyplot as plt\n",
        "import seaborn as sns\n",
        "import numpy as np\n",
        "import os\n",
        "import tabulate as tabulate\n",
        "import folium\n",
        "from pandas import json_normalize\n",
        "from folium.plugins import HeatMap\n",
        "import warnings\n",
        "import dfply as dp\n",
        "from pathlib import Path\n",
        "\n",
        "warnings.filterwarnings(\"ignore\")\n",
        "warnings.simplefilter(action='ignore', category=FutureWarning)\n",
        "\n",
        "import json\n",
        "\n",
        "\n",
        "\n",
        "\n",
        "import requests\n",
        "import pickle\n",
        "\n",
        "from pathlib import Path\n",
        "from typing import Tuple, Callable, List\n",
        "\n",
        "from imblearn.under_sampling import NearMiss\n",
        "from imblearn.over_sampling import SMOTENC\n",
        "\n",
        "from sklearn.model_selection import train_test_split as tts\n",
        "from sklearn.model_selection import StratifiedKFold, cross_validate, GridSearchCV\n",
        "from sklearn.metrics import accuracy_score, precision_score, recall_score, f1_score, classification_report\n",
        "from sklearn.metrics import confusion_matrix, ConfusionMatrixDisplay, roc_auc_score, RocCurveDisplay\n",
        "from sklearn.preprocessing import OneHotEncoder, LabelEncoder, MinMaxScaler, StandardScaler\n",
        "from sklearn.compose import make_column_transformer\n",
        "from sklearn.tree import DecisionTreeClassifier\n",
        "from sklearn.ensemble import RandomForestClassifier\n",
        "from sklearn.neighbors import KNeighborsClassifier as knn\n",
        "from sklearn.svm import SVC\n",
        "from sklearn.inspection import permutation_importance\n",
        "\n",
        "import xgboost\n",
        "from xgboost import XGBClassifier"
      ]
    },
    {
      "cell_type": "markdown",
      "metadata": {},
      "source": [
        "\n",
        "### Descrption project\n",
        "\n",
        "In this project, predictive models will be developed that can predict which customers are most likely to cancel their services.\n",
        "\n",
        "The company wants to anticipate the churn problem explored in the previous stage. Therefore, in this notebook, a robust pipeline will be built for this initial modeling stage, in which the following tasks will be carried out:\n",
        "\n",
        "Prepare the data for modeling (processing, coding, normalization).\n",
        "Perform evaluation analysis and variable selection.\n",
        "Train different classification models, evaluate their performance using different metrics, and interpret the results of each.\n",
        "Finally, a report will be created with a strategic conclusion highlighting the main factors that influence churn.\n",
        "\n",
        "\n",
        "#### Data dictionary \n",
        "\n",
        "- `customerID`: número de identificación único de cada cliente\n",
        "- `Churn`: si el cliente dejó o no la empresa\n",
        "- `gender`: género (masculino y femenino)\n",
        "- `SeniorCitizen`: información sobre si un cliente tiene o no una edad igual o mayor a 65 años\n",
        "- `Partner`: si el cliente tiene o no una pareja\n",
        "- `Dependents`: si el cliente tiene o no dependientes\n",
        "- `tenure`: meses de contrato del cliente\n",
        "- `PhoneService`: suscripción al servicio telefónico\n",
        "- `MultipleLines`: suscripción a más de una línea telefónica\n",
        "- `InternetService`: suscripción a un proveedor de internet\n",
        "- `OnlineSecurity`: suscripción adicional de seguridad en línea\n",
        "- `OnlineBackup`: suscripción adicional de respaldo en línea\n",
        "- `DeviceProtection`: suscripción adicional de protección del dispositivo\n",
        "- `TechSupport`: suscripción adicional de soporte técnico, menor tiempo de espera\n",
        "- `StreamingTV`: suscripción de televisión por cable\n",
        "- `StreamingMovies`: suscripción de streaming de películas\n",
        "- `Contract`: tipo de contrato\n",
        "- `PaperlessBilling`: si el cliente prefiere recibir la factura en línea\n",
        "- `PaymentMethod`: forma de pago\n",
        "- `Charges.Monthly`: total de todos los servicios del cliente por mes\n",
        "- `Charges.Total`: total gastado por el cliente"
      ]
    },
    {
      "cell_type": "markdown",
      "metadata": {},
      "source": [
        "### Preprocessing data\n",
        "\n",
        "de acuerdo al challenge anterior en donde se realizaron algunas cosas....."
      ]
    },
    {
      "cell_type": "code",
      "execution_count": 3,
      "metadata": {},
      "outputs": [
        {
          "data": {
            "application/vnd.microsoft.datawrangler.viewer.v0+json": {
              "columns": [
                {
                  "name": "index",
                  "rawType": "int64",
                  "type": "integer"
                },
                {
                  "name": "customerID",
                  "rawType": "object",
                  "type": "string"
                },
                {
                  "name": "Churn",
                  "rawType": "bool",
                  "type": "boolean"
                },
                {
                  "name": "customer.gender",
                  "rawType": "object",
                  "type": "string"
                },
                {
                  "name": "customer.SeniorCitizen",
                  "rawType": "bool",
                  "type": "boolean"
                },
                {
                  "name": "customer.Partner",
                  "rawType": "bool",
                  "type": "boolean"
                },
                {
                  "name": "customer.Dependents",
                  "rawType": "bool",
                  "type": "boolean"
                },
                {
                  "name": "customer.tenure",
                  "rawType": "int64",
                  "type": "integer"
                },
                {
                  "name": "phone.PhoneService",
                  "rawType": "bool",
                  "type": "boolean"
                },
                {
                  "name": "phone.MultipleLines",
                  "rawType": "bool",
                  "type": "boolean"
                },
                {
                  "name": "internet.InternetService",
                  "rawType": "object",
                  "type": "string"
                },
                {
                  "name": "internet.OnlineSecurity",
                  "rawType": "object",
                  "type": "string"
                },
                {
                  "name": "internet.OnlineBackup",
                  "rawType": "object",
                  "type": "string"
                },
                {
                  "name": "internet.DeviceProtection",
                  "rawType": "object",
                  "type": "string"
                },
                {
                  "name": "internet.TechSupport",
                  "rawType": "object",
                  "type": "string"
                },
                {
                  "name": "internet.StreamingTV",
                  "rawType": "object",
                  "type": "string"
                },
                {
                  "name": "internet.StreamingMovies",
                  "rawType": "object",
                  "type": "string"
                },
                {
                  "name": "account.Contract",
                  "rawType": "object",
                  "type": "string"
                },
                {
                  "name": "account.PaperlessBilling",
                  "rawType": "bool",
                  "type": "boolean"
                },
                {
                  "name": "account.PaymentMethod",
                  "rawType": "object",
                  "type": "string"
                },
                {
                  "name": "account.Charges.Monthly",
                  "rawType": "float64",
                  "type": "float"
                },
                {
                  "name": "account.Charges.Total",
                  "rawType": "float64",
                  "type": "float"
                }
              ],
              "ref": "d58e90c5-c737-4db0-8b9d-b7a884c9ff21",
              "rows": [
                [
                  "0",
                  "0002-ORFBO",
                  "False",
                  "Female",
                  "False",
                  "True",
                  "True",
                  "9",
                  "True",
                  "False",
                  "DSL",
                  "0",
                  "1",
                  "0",
                  "1",
                  "1",
                  "0",
                  "One year",
                  "True",
                  "Mailed check",
                  "65.6",
                  "593.3"
                ],
                [
                  "1",
                  "0003-MKNFE",
                  "False",
                  "Male",
                  "False",
                  "False",
                  "False",
                  "9",
                  "True",
                  "True",
                  "DSL",
                  "0",
                  "0",
                  "0",
                  "0",
                  "0",
                  "1",
                  "Month-to-month",
                  "False",
                  "Mailed check",
                  "59.9",
                  "542.4"
                ],
                [
                  "2",
                  "0004-TLHLJ",
                  "True",
                  "Male",
                  "False",
                  "False",
                  "False",
                  "4",
                  "True",
                  "False",
                  "Fiber optic",
                  "0",
                  "0",
                  "1",
                  "0",
                  "0",
                  "0",
                  "Month-to-month",
                  "True",
                  "Electronic check",
                  "73.9",
                  "280.85"
                ],
                [
                  "3",
                  "0011-IGKFF",
                  "True",
                  "Male",
                  "True",
                  "True",
                  "False",
                  "13",
                  "True",
                  "False",
                  "Fiber optic",
                  "0",
                  "1",
                  "1",
                  "0",
                  "1",
                  "1",
                  "Month-to-month",
                  "True",
                  "Electronic check",
                  "98.0",
                  "1237.85"
                ],
                [
                  "4",
                  "0013-EXCHZ",
                  "True",
                  "Female",
                  "True",
                  "True",
                  "False",
                  "3",
                  "True",
                  "False",
                  "Fiber optic",
                  "0",
                  "0",
                  "0",
                  "1",
                  "1",
                  "0",
                  "Month-to-month",
                  "True",
                  "Mailed check",
                  "83.9",
                  "267.4"
                ]
              ],
              "shape": {
                "columns": 21,
                "rows": 5
              }
            },
            "text/html": [
              "<div>\n",
              "<style scoped>\n",
              "    .dataframe tbody tr th:only-of-type {\n",
              "        vertical-align: middle;\n",
              "    }\n",
              "\n",
              "    .dataframe tbody tr th {\n",
              "        vertical-align: top;\n",
              "    }\n",
              "\n",
              "    .dataframe thead th {\n",
              "        text-align: right;\n",
              "    }\n",
              "</style>\n",
              "<table border=\"1\" class=\"dataframe\">\n",
              "  <thead>\n",
              "    <tr style=\"text-align: right;\">\n",
              "      <th></th>\n",
              "      <th>customerID</th>\n",
              "      <th>Churn</th>\n",
              "      <th>customer.gender</th>\n",
              "      <th>customer.SeniorCitizen</th>\n",
              "      <th>customer.Partner</th>\n",
              "      <th>customer.Dependents</th>\n",
              "      <th>customer.tenure</th>\n",
              "      <th>phone.PhoneService</th>\n",
              "      <th>phone.MultipleLines</th>\n",
              "      <th>internet.InternetService</th>\n",
              "      <th>...</th>\n",
              "      <th>internet.OnlineBackup</th>\n",
              "      <th>internet.DeviceProtection</th>\n",
              "      <th>internet.TechSupport</th>\n",
              "      <th>internet.StreamingTV</th>\n",
              "      <th>internet.StreamingMovies</th>\n",
              "      <th>account.Contract</th>\n",
              "      <th>account.PaperlessBilling</th>\n",
              "      <th>account.PaymentMethod</th>\n",
              "      <th>account.Charges.Monthly</th>\n",
              "      <th>account.Charges.Total</th>\n",
              "    </tr>\n",
              "  </thead>\n",
              "  <tbody>\n",
              "    <tr>\n",
              "      <th>0</th>\n",
              "      <td>0002-ORFBO</td>\n",
              "      <td>False</td>\n",
              "      <td>Female</td>\n",
              "      <td>False</td>\n",
              "      <td>True</td>\n",
              "      <td>True</td>\n",
              "      <td>9</td>\n",
              "      <td>True</td>\n",
              "      <td>False</td>\n",
              "      <td>DSL</td>\n",
              "      <td>...</td>\n",
              "      <td>1</td>\n",
              "      <td>0</td>\n",
              "      <td>1</td>\n",
              "      <td>1</td>\n",
              "      <td>0</td>\n",
              "      <td>One year</td>\n",
              "      <td>True</td>\n",
              "      <td>Mailed check</td>\n",
              "      <td>65.6</td>\n",
              "      <td>593.30</td>\n",
              "    </tr>\n",
              "    <tr>\n",
              "      <th>1</th>\n",
              "      <td>0003-MKNFE</td>\n",
              "      <td>False</td>\n",
              "      <td>Male</td>\n",
              "      <td>False</td>\n",
              "      <td>False</td>\n",
              "      <td>False</td>\n",
              "      <td>9</td>\n",
              "      <td>True</td>\n",
              "      <td>True</td>\n",
              "      <td>DSL</td>\n",
              "      <td>...</td>\n",
              "      <td>0</td>\n",
              "      <td>0</td>\n",
              "      <td>0</td>\n",
              "      <td>0</td>\n",
              "      <td>1</td>\n",
              "      <td>Month-to-month</td>\n",
              "      <td>False</td>\n",
              "      <td>Mailed check</td>\n",
              "      <td>59.9</td>\n",
              "      <td>542.40</td>\n",
              "    </tr>\n",
              "    <tr>\n",
              "      <th>2</th>\n",
              "      <td>0004-TLHLJ</td>\n",
              "      <td>True</td>\n",
              "      <td>Male</td>\n",
              "      <td>False</td>\n",
              "      <td>False</td>\n",
              "      <td>False</td>\n",
              "      <td>4</td>\n",
              "      <td>True</td>\n",
              "      <td>False</td>\n",
              "      <td>Fiber optic</td>\n",
              "      <td>...</td>\n",
              "      <td>0</td>\n",
              "      <td>1</td>\n",
              "      <td>0</td>\n",
              "      <td>0</td>\n",
              "      <td>0</td>\n",
              "      <td>Month-to-month</td>\n",
              "      <td>True</td>\n",
              "      <td>Electronic check</td>\n",
              "      <td>73.9</td>\n",
              "      <td>280.85</td>\n",
              "    </tr>\n",
              "    <tr>\n",
              "      <th>3</th>\n",
              "      <td>0011-IGKFF</td>\n",
              "      <td>True</td>\n",
              "      <td>Male</td>\n",
              "      <td>True</td>\n",
              "      <td>True</td>\n",
              "      <td>False</td>\n",
              "      <td>13</td>\n",
              "      <td>True</td>\n",
              "      <td>False</td>\n",
              "      <td>Fiber optic</td>\n",
              "      <td>...</td>\n",
              "      <td>1</td>\n",
              "      <td>1</td>\n",
              "      <td>0</td>\n",
              "      <td>1</td>\n",
              "      <td>1</td>\n",
              "      <td>Month-to-month</td>\n",
              "      <td>True</td>\n",
              "      <td>Electronic check</td>\n",
              "      <td>98.0</td>\n",
              "      <td>1237.85</td>\n",
              "    </tr>\n",
              "    <tr>\n",
              "      <th>4</th>\n",
              "      <td>0013-EXCHZ</td>\n",
              "      <td>True</td>\n",
              "      <td>Female</td>\n",
              "      <td>True</td>\n",
              "      <td>True</td>\n",
              "      <td>False</td>\n",
              "      <td>3</td>\n",
              "      <td>True</td>\n",
              "      <td>False</td>\n",
              "      <td>Fiber optic</td>\n",
              "      <td>...</td>\n",
              "      <td>0</td>\n",
              "      <td>0</td>\n",
              "      <td>1</td>\n",
              "      <td>1</td>\n",
              "      <td>0</td>\n",
              "      <td>Month-to-month</td>\n",
              "      <td>True</td>\n",
              "      <td>Mailed check</td>\n",
              "      <td>83.9</td>\n",
              "      <td>267.40</td>\n",
              "    </tr>\n",
              "  </tbody>\n",
              "</table>\n",
              "<p>5 rows × 21 columns</p>\n",
              "</div>"
            ],
            "text/plain": [
              "   customerID  Churn customer.gender  customer.SeniorCitizen  \\\n",
              "0  0002-ORFBO  False          Female                   False   \n",
              "1  0003-MKNFE  False            Male                   False   \n",
              "2  0004-TLHLJ   True            Male                   False   \n",
              "3  0011-IGKFF   True            Male                    True   \n",
              "4  0013-EXCHZ   True          Female                    True   \n",
              "\n",
              "   customer.Partner  customer.Dependents  customer.tenure  phone.PhoneService  \\\n",
              "0              True                 True                9                True   \n",
              "1             False                False                9                True   \n",
              "2             False                False                4                True   \n",
              "3              True                False               13                True   \n",
              "4              True                False                3                True   \n",
              "\n",
              "   phone.MultipleLines internet.InternetService  ... internet.OnlineBackup  \\\n",
              "0                False                      DSL  ...                     1   \n",
              "1                 True                      DSL  ...                     0   \n",
              "2                False              Fiber optic  ...                     0   \n",
              "3                False              Fiber optic  ...                     1   \n",
              "4                False              Fiber optic  ...                     0   \n",
              "\n",
              "  internet.DeviceProtection internet.TechSupport internet.StreamingTV  \\\n",
              "0                         0                    1                    1   \n",
              "1                         0                    0                    0   \n",
              "2                         1                    0                    0   \n",
              "3                         1                    0                    1   \n",
              "4                         0                    1                    1   \n",
              "\n",
              "  internet.StreamingMovies account.Contract account.PaperlessBilling  \\\n",
              "0                        0         One year                     True   \n",
              "1                        1   Month-to-month                    False   \n",
              "2                        0   Month-to-month                     True   \n",
              "3                        1   Month-to-month                     True   \n",
              "4                        0   Month-to-month                     True   \n",
              "\n",
              "   account.PaymentMethod account.Charges.Monthly  account.Charges.Total  \n",
              "0           Mailed check                    65.6                 593.30  \n",
              "1           Mailed check                    59.9                 542.40  \n",
              "2       Electronic check                    73.9                 280.85  \n",
              "3       Electronic check                    98.0                1237.85  \n",
              "4           Mailed check                    83.9                 267.40  \n",
              "\n",
              "[5 rows x 21 columns]"
            ]
          },
          "execution_count": 3,
          "metadata": {},
          "output_type": "execute_result"
        }
      ],
      "source": [
        "# Load the dataset\n",
        "\n",
        "#. → carpeta actual\n",
        "#.. → carpeta padre (subir un nivel)\n",
        "\n",
        "csv_path = Path(\"..\") / \"challenge-telecomX_Latam\" / \"TelecomX_Data_Cleaned.csv\"\n",
        "df1 = pd.read_csv(csv_path)\n",
        "\n",
        "\n",
        "df1.head()"
      ]
    },
    {
      "cell_type": "code",
      "execution_count": 4,
      "metadata": {},
      "outputs": [
        {
          "data": {
            "text/plain": [
              "Index(['customerID', 'Churn', 'customer.gender', 'customer.SeniorCitizen',\n",
              "       'customer.Partner', 'customer.Dependents', 'customer.tenure',\n",
              "       'phone.PhoneService', 'phone.MultipleLines', 'internet.InternetService',\n",
              "       'internet.OnlineSecurity', 'internet.OnlineBackup',\n",
              "       'internet.DeviceProtection', 'internet.TechSupport',\n",
              "       'internet.StreamingTV', 'internet.StreamingMovies', 'account.Contract',\n",
              "       'account.PaperlessBilling', 'account.PaymentMethod',\n",
              "       'account.Charges.Monthly', 'account.Charges.Total'],\n",
              "      dtype='object')"
            ]
          },
          "execution_count": 4,
          "metadata": {},
          "output_type": "execute_result"
        }
      ],
      "source": [
        "df1.columns"
      ]
    },
    {
      "cell_type": "code",
      "execution_count": 8,
      "metadata": {},
      "outputs": [
        {
          "name": "stdout",
          "output_type": "stream",
          "text": [
            "<class 'pandas.core.frame.DataFrame'>\n",
            "RangeIndex: 7043 entries, 0 to 7042\n",
            "Data columns (total 20 columns):\n",
            " #   Column                     Non-Null Count  Dtype   \n",
            "---  ------                     --------------  -----   \n",
            " 0   Churn                      7043 non-null   bool    \n",
            " 1   customer.gender            7043 non-null   category\n",
            " 2   customer.SeniorCitizen     7043 non-null   bool    \n",
            " 3   customer.Partner           7043 non-null   bool    \n",
            " 4   customer.Dependents        7043 non-null   bool    \n",
            " 5   customer.tenure            7043 non-null   int64   \n",
            " 6   phone.PhoneService         7043 non-null   bool    \n",
            " 7   phone.MultipleLines        7043 non-null   bool    \n",
            " 8   internet.InternetService   7043 non-null   category\n",
            " 9   internet.OnlineSecurity    7043 non-null   category\n",
            " 10  internet.OnlineBackup      7043 non-null   category\n",
            " 11  internet.DeviceProtection  7043 non-null   category\n",
            " 12  internet.TechSupport       7043 non-null   category\n",
            " 13  internet.StreamingTV       7043 non-null   category\n",
            " 14  internet.StreamingMovies   7043 non-null   category\n",
            " 15  account.Contract           7043 non-null   category\n",
            " 16  account.PaperlessBilling   7043 non-null   bool    \n",
            " 17  account.PaymentMethod      7043 non-null   category\n",
            " 18  account.Charges.Monthly    7043 non-null   float64 \n",
            " 19  account.Charges.Total      7032 non-null   float64 \n",
            "dtypes: bool(7), category(10), float64(2), int64(1)\n",
            "memory usage: 283.5 KB\n"
          ]
        }
      ],
      "source": [
        "df2.info()"
      ]
    },
    {
      "cell_type": "code",
      "execution_count": 6,
      "metadata": {
        "id": "bsm-WTLjmHvt"
      },
      "outputs": [],
      "source": [
        "# trasform the DataFrame to have a more readable format\n",
        "\n",
        "cat_cols = [ 'customer.gender','internet.InternetService','account.Contract','account.PaymentMethod',\n",
        "            'internet.OnlineSecurity', 'internet.OnlineBackup', 'internet.DeviceProtection',\n",
        "    'internet.TechSupport', 'internet.StreamingTV', 'internet.StreamingMovies']\n",
        "for col in cat_cols:\n",
        "    df1[col] = df1[col].astype('category')\n",
        "\n",
        "\n",
        "# convert the 'customer.SeniorCitizen' column to boolean\n",
        "\n",
        "cat_cols = ['customer.Partner', 'customer.Dependents', 'phone.PhoneService', 'phone.MultipleLines',\n",
        "    'account.PaperlessBilling', 'Churn','customer.SeniorCitizen']\n",
        "\n",
        "# remplace Yes/No with 1/0\n",
        "\n",
        "df1 = df1.replace({'Yes': 1, 'No': 0})\n",
        "\n",
        "for col in cat_cols:\n",
        "    df1[col] = df1[col].astype('bool')\n",
        "    \n",
        "\n",
        "# convert the 'account.Charges.Total' column to float\n",
        "df1['account.Charges.Total'] = df1['account.Charges.Total'].astype(float)"
      ]
    },
    {
      "cell_type": "code",
      "execution_count": 7,
      "metadata": {},
      "outputs": [
        {
          "data": {
            "application/vnd.microsoft.datawrangler.viewer.v0+json": {
              "columns": [
                {
                  "name": "index",
                  "rawType": "object",
                  "type": "string"
                },
                {
                  "name": "customer.tenure",
                  "rawType": "float64",
                  "type": "float"
                },
                {
                  "name": "account.Charges.Monthly",
                  "rawType": "float64",
                  "type": "float"
                },
                {
                  "name": "account.Charges.Total",
                  "rawType": "float64",
                  "type": "float"
                }
              ],
              "ref": "3150c22b-881a-48d8-a461-17990738b344",
              "rows": [
                [
                  "count",
                  "7043.0",
                  "7043.0",
                  "7032.0"
                ],
                [
                  "mean",
                  "32.37114865824223",
                  "64.76169246059918",
                  "2283.3004408418656"
                ],
                [
                  "std",
                  "24.559481023094225",
                  "30.09004709767855",
                  "2266.771361883145"
                ],
                [
                  "min",
                  "0.0",
                  "18.25",
                  "18.8"
                ],
                [
                  "25%",
                  "9.0",
                  "35.5",
                  "401.45"
                ],
                [
                  "50%",
                  "29.0",
                  "70.35",
                  "1397.475"
                ],
                [
                  "75%",
                  "55.0",
                  "89.85",
                  "3794.7375"
                ],
                [
                  "max",
                  "72.0",
                  "118.75",
                  "8684.8"
                ]
              ],
              "shape": {
                "columns": 3,
                "rows": 8
              }
            },
            "text/html": [
              "<div>\n",
              "<style scoped>\n",
              "    .dataframe tbody tr th:only-of-type {\n",
              "        vertical-align: middle;\n",
              "    }\n",
              "\n",
              "    .dataframe tbody tr th {\n",
              "        vertical-align: top;\n",
              "    }\n",
              "\n",
              "    .dataframe thead th {\n",
              "        text-align: right;\n",
              "    }\n",
              "</style>\n",
              "<table border=\"1\" class=\"dataframe\">\n",
              "  <thead>\n",
              "    <tr style=\"text-align: right;\">\n",
              "      <th></th>\n",
              "      <th>customer.tenure</th>\n",
              "      <th>account.Charges.Monthly</th>\n",
              "      <th>account.Charges.Total</th>\n",
              "    </tr>\n",
              "  </thead>\n",
              "  <tbody>\n",
              "    <tr>\n",
              "      <th>count</th>\n",
              "      <td>7043.000000</td>\n",
              "      <td>7043.000000</td>\n",
              "      <td>7032.000000</td>\n",
              "    </tr>\n",
              "    <tr>\n",
              "      <th>mean</th>\n",
              "      <td>32.371149</td>\n",
              "      <td>64.761692</td>\n",
              "      <td>2283.300441</td>\n",
              "    </tr>\n",
              "    <tr>\n",
              "      <th>std</th>\n",
              "      <td>24.559481</td>\n",
              "      <td>30.090047</td>\n",
              "      <td>2266.771362</td>\n",
              "    </tr>\n",
              "    <tr>\n",
              "      <th>min</th>\n",
              "      <td>0.000000</td>\n",
              "      <td>18.250000</td>\n",
              "      <td>18.800000</td>\n",
              "    </tr>\n",
              "    <tr>\n",
              "      <th>25%</th>\n",
              "      <td>9.000000</td>\n",
              "      <td>35.500000</td>\n",
              "      <td>401.450000</td>\n",
              "    </tr>\n",
              "    <tr>\n",
              "      <th>50%</th>\n",
              "      <td>29.000000</td>\n",
              "      <td>70.350000</td>\n",
              "      <td>1397.475000</td>\n",
              "    </tr>\n",
              "    <tr>\n",
              "      <th>75%</th>\n",
              "      <td>55.000000</td>\n",
              "      <td>89.850000</td>\n",
              "      <td>3794.737500</td>\n",
              "    </tr>\n",
              "    <tr>\n",
              "      <th>max</th>\n",
              "      <td>72.000000</td>\n",
              "      <td>118.750000</td>\n",
              "      <td>8684.800000</td>\n",
              "    </tr>\n",
              "  </tbody>\n",
              "</table>\n",
              "</div>"
            ],
            "text/plain": [
              "       customer.tenure  account.Charges.Monthly  account.Charges.Total\n",
              "count      7043.000000              7043.000000            7032.000000\n",
              "mean         32.371149                64.761692            2283.300441\n",
              "std          24.559481                30.090047            2266.771362\n",
              "min           0.000000                18.250000              18.800000\n",
              "25%           9.000000                35.500000             401.450000\n",
              "50%          29.000000                70.350000            1397.475000\n",
              "75%          55.000000                89.850000            3794.737500\n",
              "max          72.000000               118.750000            8684.800000"
            ]
          },
          "execution_count": 7,
          "metadata": {},
          "output_type": "execute_result"
        }
      ],
      "source": [
        "df2 = df1.drop(['customerID'], axis=1)\n",
        "\n",
        "\n",
        "df1.describe()"
      ]
    },
    {
      "cell_type": "markdown",
      "metadata": {},
      "source": [
        "In Challenge Part 1 of the project, we successfully conducted a comprehensive Exploratory Data Analysis (EDA) focused on understanding customer churn behavior within TelecomX LATAM. This included thorough data cleaning, variable transformation, and the identification of key trends and correlations. We analyzed how different factors such as contract type, tenure, payment method, and monthly charges influence churn rates. Additionally, we examined variable distributions, addressed missing values, detected multicollinearity, and gained actionable business insights."
      ]
    },
    {
      "cell_type": "code",
      "execution_count": null,
      "metadata": {},
      "outputs": [],
      "source": []
    }
  ],
  "metadata": {
    "colab": {
      "provenance": []
    },
    "kernelspec": {
      "display_name": "base",
      "language": "python",
      "name": "python3"
    },
    "language_info": {
      "codemirror_mode": {
        "name": "ipython",
        "version": 3
      },
      "file_extension": ".py",
      "mimetype": "text/x-python",
      "name": "python",
      "nbconvert_exporter": "python",
      "pygments_lexer": "ipython3",
      "version": "3.11.7"
    }
  },
  "nbformat": 4,
  "nbformat_minor": 0
}
